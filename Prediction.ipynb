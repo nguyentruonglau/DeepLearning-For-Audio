{
 "cells": [
  {
   "cell_type": "markdown",
   "metadata": {},
   "source": [
    "# 1. Add Necessary Library"
   ]
  },
  {
   "cell_type": "code",
   "execution_count": 1,
   "metadata": {},
   "outputs": [
    {
     "name": "stderr",
     "output_type": "stream",
     "text": [
      "Using TensorFlow backend.\n"
     ]
    }
   ],
   "source": [
    "import librosa\n",
    "from keras.models import load_model\n",
    "import numpy as np\n",
    "import cv2\n",
    "import IPython.display as ipd"
   ]
  },
  {
   "cell_type": "markdown",
   "metadata": {},
   "source": [
    "# 2. Load Model"
   ]
  },
  {
   "cell_type": "code",
   "execution_count": 2,
   "metadata": {},
   "outputs": [],
   "source": [
    "model = load_model(\"MODEL/model you train.hdf5\")"
   ]
  },
  {
   "cell_type": "markdown",
   "metadata": {},
   "source": [
    "# 3. Preprocessing Function"
   ]
  },
  {
   "cell_type": "code",
   "execution_count": 3,
   "metadata": {},
   "outputs": [],
   "source": [
    "def by_value(item):\n",
    "    return item[1]"
   ]
  },
  {
   "cell_type": "code",
   "execution_count": 4,
   "metadata": {},
   "outputs": [],
   "source": [
    "def Convert_Mfcc2Img(mfcc):\n",
    "    '''\n",
    "    Use: Convert mfcc feature to image, in order to save this image\n",
    "    \n",
    "    In: Mfcc feature\n",
    "    Out: Image corresponding to mfcc feature\n",
    "    '''\n",
    "    mfcc = np.array(mfcc)\n",
    "    \n",
    "    MAX=np.max(mfcc);MIN=np.min(mfcc)\n",
    "    \n",
    "    NEW_MAX=255; NEW_MIN=0\n",
    "    \n",
    "    img_mfcc = (mfcc-MIN)/(MAX-MIN) * (NEW_MAX-NEW_MIN)\n",
    "    \n",
    "    return img_mfcc;"
   ]
  },
  {
   "cell_type": "code",
   "execution_count": 5,
   "metadata": {},
   "outputs": [],
   "source": [
    "def extract_features(file_name):\n",
    "    max_pad_len = 180\n",
    "\n",
    "    try:\n",
    "        audio, sample_rate = librosa.load(file_name, res_type='kaiser_fast') \n",
    "        mfccs = librosa.feature.mfcc(y=audio, sr=sample_rate, n_mfcc=40)\n",
    "        pad_width = max_pad_len - mfccs.shape[1]\n",
    "        mfccs = np.pad(mfccs, pad_width=((0, 0), (0, pad_width)), mode='constant')\n",
    "        \n",
    "    except Exception as e:\n",
    "        print(\"Error encountered while parsing file: \", file_name)\n",
    "        return None \n",
    "     \n",
    "    return mfccs"
   ]
  },
  {
   "cell_type": "code",
   "execution_count": 6,
   "metadata": {},
   "outputs": [],
   "source": [
    "def print_prediction(file_name):\n",
    "    dictionary={0:'Da', 1:'Giang', 2:'Jack', 3:'Misthy', 4:'Ngoc', 5:'Thanh', 6:'Tung'}\n",
    "    \n",
    "    prediction_feature = extract_features(file_name)\n",
    "    prediction_feature = Convert_Mfcc2Img(prediction_feature)\n",
    "    prediction_feature = cv2.resize(prediction_feature, (64,64))\n",
    "\n",
    "    prediction_feature = prediction_feature.reshape(1, 64, 64, 1)\n",
    "\n",
    "    predicted_vector = model.predict(prediction_feature)\n",
    "    \n",
    "    dic = dict(dict(zip(np.arange(0,len(predicted_vector[0])), predicted_vector[0])))\n",
    "    \n",
    "    sorted_dic = {k:v for k, v in sorted(dic.items(), key=by_value)}\n",
    "    \n",
    "    keys=[i for i in sorted_dic.keys()]\n",
    "    values=[j for j in sorted_dic.values()]\n",
    "    \n",
    "    for i in np.arange(1,6):\n",
    "        print('{}. {} - {}%'.format(i,dictionary[keys[-i]], round(values[-i]*100,2)))"
   ]
  },
  {
   "cell_type": "markdown",
   "metadata": {},
   "source": [
    "# 4. Test ResNet50"
   ]
  },
  {
   "cell_type": "code",
   "execution_count": null,
   "metadata": {},
   "outputs": [],
   "source": [
    "filename = 'TEST\\\\Tung.wav'\n",
    "\n",
    "ipd.Audio(filename)"
   ]
  },
  {
   "cell_type": "code",
   "execution_count": null,
   "metadata": {},
   "outputs": [],
   "source": [
    "print_prediction(filename)"
   ]
  }
 ],
 "metadata": {
  "anaconda-cloud": {},
  "kernelspec": {
   "display_name": "Python 3",
   "language": "python",
   "name": "python3"
  },
  "language_info": {
   "codemirror_mode": {
    "name": "ipython",
    "version": 3
   },
   "file_extension": ".py",
   "mimetype": "text/x-python",
   "name": "python",
   "nbconvert_exporter": "python",
   "pygments_lexer": "ipython3",
   "version": "3.7.6"
  }
 },
 "nbformat": 4,
 "nbformat_minor": 1
}
